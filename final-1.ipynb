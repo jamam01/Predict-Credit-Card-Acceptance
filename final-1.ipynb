{
 "cells": [
  {
   "cell_type": "markdown",
   "metadata": {},
   "source": [
    "## TOPIC --> Predict Credit Card Acceptance\n",
    "## WELCOME\n",
    "### NOW WE DO SOME PART OF DATA ANALYSIS\n",
    "#### First We Want to import some module"
   ]
  },
  {
   "cell_type": "code",
   "execution_count": 2,
   "metadata": {},
   "outputs": [],
   "source": [
    "import pandas as pd\n",
    "import numpy as np\n",
    "import matplotlib.pyplot as plt\n",
    "import seaborn as sns\n",
    "\n",
    "\n"
   ]
  },
  {
   "cell_type": "markdown",
   "metadata": {},
   "source": [
    "#### Now we want to read the given csv file "
   ]
  },
  {
   "cell_type": "code",
   "execution_count": null,
   "metadata": {},
   "outputs": [],
   "source": [
    "try:\n",
    "    OurData = pd.read_csv(\"C:/Users/Jamam/Desktop/Credit_card.csv\")  \n",
    "except NameError:\n",
    "    print(\"ERROR !!! INVALID PATH OR FILE NAME\")\n",
    "OurData"
   ]
  },
  {
   "cell_type": "markdown",
   "metadata": {},
   "source": [
    "#### Now we want to decribe each columns attributes"
   ]
  },
  {
   "cell_type": "raw",
   "metadata": {},
   "source": [
    "   >> card: Dummy variable, 1 if application for credit card accepted, 0 if not\n",
    "   >> reports: Number of major derogatory reports\n",
    "   >> age: Age n years plus twelfths of a year\n",
    "   >> income: Yearly income (divided by 10,000)\n",
    "   >> share: Ratio of monthly credit card expenditure to yearly income\n",
    "   >> expenditure: Average monthly credit card expenditure\n",
    "   >> owner: 1 if owns their home, 0 if rent\n",
    "   >> selfempl: 1 if self employed, 0 if not.\n",
    "   >> dependents: 1 + number of dependents\n",
    "   >> months: Months living at current address\n",
    "   >> majorcards: Number of major credit cards held\n",
    "   >> active: Number of active credit accounts\n"
   ]
  },
  {
   "cell_type": "markdown",
   "metadata": {},
   "source": [
    "#### Now we want to find the information of the given data (by using .info() )"
   ]
  },
  {
   "cell_type": "code",
   "execution_count": 4,
   "metadata": {},
   "outputs": [
    {
     "name": "stdout",
     "output_type": "stream",
     "text": [
      "<class 'pandas.core.frame.DataFrame'>\n",
      "RangeIndex: 1319 entries, 0 to 1318\n",
      "Data columns (total 12 columns):\n",
      "card           1319 non-null object\n",
      "reports        1319 non-null int64\n",
      "age            1319 non-null float64\n",
      "income         1319 non-null float64\n",
      "share          1319 non-null float64\n",
      "expenditure    1319 non-null float64\n",
      "owner          1319 non-null object\n",
      "selfemp        1319 non-null object\n",
      "dependents     1319 non-null int64\n",
      "months         1319 non-null int64\n",
      "majorcards     1319 non-null int64\n",
      "active         1319 non-null int64\n",
      "dtypes: float64(4), int64(5), object(3)\n",
      "memory usage: 108.2+ KB\n"
     ]
    }
   ],
   "source": [
    "OurData.info()"
   ]
  },
  {
   "cell_type": "raw",
   "metadata": {},
   "source": [
    "Here we find columns name, number of rows, present of null-value or not, and Data type....."
   ]
  },
  {
   "cell_type": "markdown",
   "metadata": {},
   "source": [
    "#### Now we want to find number of null-values in the form of heatmap"
   ]
  },
  {
   "cell_type": "code",
   "execution_count": 5,
   "metadata": {},
   "outputs": [
    {
     "data": {
      "text/plain": [
       "<matplotlib.axes._subplots.AxesSubplot at 0x845dd50>"
      ]
     },
     "execution_count": 5,
     "metadata": {},
     "output_type": "execute_result"
    },
    {
     "data": {
      "image/png": "[encoded data removed]",
      "text/plain": [
       "<Figure size 1080x720 with 1 Axes>"
      ]
     },
     "metadata": {
      "needs_background": "light"
     },
     "output_type": "display_data"
    }
   ],
   "source": [
    "plt.figure(figsize=(15,10))\n",
    "plt.title('heatgraph of null-values')\n",
    "sns.heatmap(OurData.isnull(),yticklabels=False,cbar=False)"
   ]
  },
  {
   "cell_type": "raw",
   "metadata": {},
   "source": [
    "from this graph we easily say that there is no null-value... if there are any null-values then it show colour line accound to the columns attributes"
   ]
  },
  {
   "cell_type": "markdown",
   "metadata": {},
   "source": [
    "#### Now we find some meanfull information from the Dataset( by using .describe() )"
   ]
  },
  {
   "cell_type": "code",
   "execution_count": 6,
   "metadata": {},
   "outputs": [
    {
     "data": {
      "text/html": [
       "<div>\n",
       "<style scoped>\n",
       "    .dataframe tbody tr th:only-of-type {\n",
       "        vertical-align: middle;\n",
       "    }\n",
       "\n",
       "    .dataframe tbody tr th {\n",
       "        vertical-align: top;\n",
       "    }\n",
       "\n",
       "    .dataframe thead th {\n",
       "        text-align: right;\n",
       "    }\n",
       "</style>\n",
       "<table border=\"1\" class=\"dataframe\">\n",
       "  <thead>\n",
       "    <tr style=\"text-align: right;\">\n",
       "      <th></th>\n",
       "      <th>reports</th>\n",
       "      <th>age</th>\n",
       "      <th>income</th>\n",
       "      <th>share</th>\n",
       "      <th>expenditure</th>\n",
       "      <th>dependents</th>\n",
       "      <th>months</th>\n",
       "      <th>majorcards</th>\n",
       "      <th>active</th>\n",
       "    </tr>\n",
       "  </thead>\n",
       "  <tbody>\n",
       "    <tr>\n",
       "      <th>count</th>\n",
       "      <td>1319.000000</td>\n",
       "      <td>1319.000000</td>\n",
       "      <td>1319.000000</td>\n",
       "      <td>1319.000000</td>\n",
       "      <td>1319.000000</td>\n",
       "      <td>1319.000000</td>\n",
       "      <td>1319.000000</td>\n",
       "      <td>1319.000000</td>\n",
       "      <td>1319.000000</td>\n",
       "    </tr>\n",
       "    <tr>\n",
       "      <th>mean</th>\n",
       "      <td>0.456406</td>\n",
       "      <td>33.213103</td>\n",
       "      <td>3.365376</td>\n",
       "      <td>0.068732</td>\n",
       "      <td>185.057071</td>\n",
       "      <td>0.993935</td>\n",
       "      <td>55.267627</td>\n",
       "      <td>0.817286</td>\n",
       "      <td>6.996967</td>\n",
       "    </tr>\n",
       "    <tr>\n",
       "      <th>std</th>\n",
       "      <td>1.345267</td>\n",
       "      <td>10.142783</td>\n",
       "      <td>1.693902</td>\n",
       "      <td>0.094656</td>\n",
       "      <td>272.218917</td>\n",
       "      <td>1.247745</td>\n",
       "      <td>66.271746</td>\n",
       "      <td>0.386579</td>\n",
       "      <td>6.305812</td>\n",
       "    </tr>\n",
       "    <tr>\n",
       "      <th>min</th>\n",
       "      <td>0.000000</td>\n",
       "      <td>0.166667</td>\n",
       "      <td>0.210000</td>\n",
       "      <td>0.000109</td>\n",
       "      <td>0.000000</td>\n",
       "      <td>0.000000</td>\n",
       "      <td>0.000000</td>\n",
       "      <td>0.000000</td>\n",
       "      <td>0.000000</td>\n",
       "    </tr>\n",
       "    <tr>\n",
       "      <th>25%</th>\n",
       "      <td>0.000000</td>\n",
       "      <td>25.416670</td>\n",
       "      <td>2.243750</td>\n",
       "      <td>0.002316</td>\n",
       "      <td>4.583333</td>\n",
       "      <td>0.000000</td>\n",
       "      <td>12.000000</td>\n",
       "      <td>1.000000</td>\n",
       "      <td>2.000000</td>\n",
       "    </tr>\n",
       "    <tr>\n",
       "      <th>50%</th>\n",
       "      <td>0.000000</td>\n",
       "      <td>31.250000</td>\n",
       "      <td>2.900000</td>\n",
       "      <td>0.038827</td>\n",
       "      <td>101.298300</td>\n",
       "      <td>1.000000</td>\n",
       "      <td>30.000000</td>\n",
       "      <td>1.000000</td>\n",
       "      <td>6.000000</td>\n",
       "    </tr>\n",
       "    <tr>\n",
       "      <th>75%</th>\n",
       "      <td>0.000000</td>\n",
       "      <td>39.416670</td>\n",
       "      <td>4.000000</td>\n",
       "      <td>0.093617</td>\n",
       "      <td>249.035800</td>\n",
       "      <td>2.000000</td>\n",
       "      <td>72.000000</td>\n",
       "      <td>1.000000</td>\n",
       "      <td>11.000000</td>\n",
       "    </tr>\n",
       "    <tr>\n",
       "      <th>max</th>\n",
       "      <td>14.000000</td>\n",
       "      <td>83.500000</td>\n",
       "      <td>13.500000</td>\n",
       "      <td>0.906320</td>\n",
       "      <td>3099.505000</td>\n",
       "      <td>6.000000</td>\n",
       "      <td>540.000000</td>\n",
       "      <td>1.000000</td>\n",
       "      <td>46.000000</td>\n",
       "    </tr>\n",
       "  </tbody>\n",
       "</table>\n",
       "</div>"
      ],
      "text/plain": [
       "           reports          age       income        share  expenditure  \\\n",
       "count  1319.000000  1319.000000  1319.000000  1319.000000  1319.000000   \n",
       "mean      0.456406    33.213103     3.365376     0.068732   185.057071   \n",
       "std       1.345267    10.142783     1.693902     0.094656   272.218917   \n",
       "min       0.000000     0.166667     0.210000     0.000109     0.000000   \n",
       "25%       0.000000    25.416670     2.243750     0.002316     4.583333   \n",
       "50%       0.000000    31.250000     2.900000     0.038827   101.298300   \n",
       "75%       0.000000    39.416670     4.000000     0.093617   249.035800   \n",
       "max      14.000000    83.500000    13.500000     0.906320  3099.505000   \n",
       "\n",
       "        dependents       months   majorcards       active  \n",
       "count  1319.000000  1319.000000  1319.000000  1319.000000  \n",
       "mean      0.993935    55.267627     0.817286     6.996967  \n",
       "std       1.247745    66.271746     0.386579     6.305812  \n",
       "min       0.000000     0.000000     0.000000     0.000000  \n",
       "25%       0.000000    12.000000     1.000000     2.000000  \n",
       "50%       1.000000    30.000000     1.000000     6.000000  \n",
       "75%       2.000000    72.000000     1.000000    11.000000  \n",
       "max       6.000000   540.000000     1.000000    46.000000  "
      ]
     },
     "execution_count": 6,
     "metadata": {},
     "output_type": "execute_result"
    }
   ],
   "source": [
    "OurData.describe()"
   ]
  },
  {
   "cell_type": "raw",
   "metadata": {},
   "source": [
    "     >> count ==> number of data of that columns attributes\n",
    "     >> mean ==> average value\n",
    "     >> std ==> standard deviation\n",
    "     >> min ==> minimun value\n",
    "     >> 25% ==> 1st quartile\n",
    "     >> 50% ==> 2nd quartile\n",
    "     >> 75% ==> 3rd quartile\n",
    "     >> max ==> maximum value"
   ]
  },
  {
   "cell_type": "code",
   "execution_count": 7,
   "metadata": {},
   "outputs": [
    {
     "data": {
      "text/plain": [
       "reports         0.000000\n",
       "age            25.416670\n",
       "income          2.243750\n",
       "share           0.002316\n",
       "expenditure     4.583333\n",
       "dependents      0.000000\n",
       "months         12.000000\n",
       "majorcards      1.000000\n",
       "active          2.000000\n",
       "Name: 0.25, dtype: float64"
      ]
     },
     "execution_count": 7,
     "metadata": {},
     "output_type": "execute_result"
    }
   ],
   "source": [
    "OurData.quantile(q=0.25,axis=0)"
   ]
  },
  {
   "cell_type": "markdown",
   "metadata": {},
   "source": [
    "#### Now we find correlation between different columns attributes( by using .corr() )"
   ]
  },
  {
   "cell_type": "code",
   "execution_count": 8,
   "metadata": {},
   "outputs": [
    {
     "data": {
      "text/html": [
       "<div>\n",
       "<style scoped>\n",
       "    .dataframe tbody tr th:only-of-type {\n",
       "        vertical-align: middle;\n",
       "    }\n",
       "\n",
       "    .dataframe tbody tr th {\n",
       "        vertical-align: top;\n",
       "    }\n",
       "\n",
       "    .dataframe thead th {\n",
       "        text-align: right;\n",
       "    }\n",
       "</style>\n",
       "<table border=\"1\" class=\"dataframe\">\n",
       "  <thead>\n",
       "    <tr style=\"text-align: right;\">\n",
       "      <th></th>\n",
       "      <th>reports</th>\n",
       "      <th>age</th>\n",
       "      <th>income</th>\n",
       "      <th>share</th>\n",
       "      <th>expenditure</th>\n",
       "      <th>dependents</th>\n",
       "      <th>months</th>\n",
       "      <th>majorcards</th>\n",
       "      <th>active</th>\n",
       "    </tr>\n",
       "  </thead>\n",
       "  <tbody>\n",
       "    <tr>\n",
       "      <th>reports</th>\n",
       "      <td>1.000000</td>\n",
       "      <td>0.044089</td>\n",
       "      <td>0.011023</td>\n",
       "      <td>-0.159011</td>\n",
       "      <td>-0.136538</td>\n",
       "      <td>0.019731</td>\n",
       "      <td>0.048968</td>\n",
       "      <td>-0.007304</td>\n",
       "      <td>0.207755</td>\n",
       "    </tr>\n",
       "    <tr>\n",
       "      <th>age</th>\n",
       "      <td>0.044089</td>\n",
       "      <td>1.000000</td>\n",
       "      <td>0.324653</td>\n",
       "      <td>-0.115697</td>\n",
       "      <td>0.014948</td>\n",
       "      <td>0.212146</td>\n",
       "      <td>0.436426</td>\n",
       "      <td>0.009777</td>\n",
       "      <td>0.181070</td>\n",
       "    </tr>\n",
       "    <tr>\n",
       "      <th>income</th>\n",
       "      <td>0.011023</td>\n",
       "      <td>0.324653</td>\n",
       "      <td>1.000000</td>\n",
       "      <td>-0.054429</td>\n",
       "      <td>0.281104</td>\n",
       "      <td>0.317601</td>\n",
       "      <td>0.130346</td>\n",
       "      <td>0.107138</td>\n",
       "      <td>0.180540</td>\n",
       "    </tr>\n",
       "    <tr>\n",
       "      <th>share</th>\n",
       "      <td>-0.159011</td>\n",
       "      <td>-0.115697</td>\n",
       "      <td>-0.054429</td>\n",
       "      <td>1.000000</td>\n",
       "      <td>0.838779</td>\n",
       "      <td>-0.082618</td>\n",
       "      <td>-0.055348</td>\n",
       "      <td>0.051470</td>\n",
       "      <td>-0.023474</td>\n",
       "    </tr>\n",
       "    <tr>\n",
       "      <th>expenditure</th>\n",
       "      <td>-0.136538</td>\n",
       "      <td>0.014948</td>\n",
       "      <td>0.281104</td>\n",
       "      <td>0.838779</td>\n",
       "      <td>1.000000</td>\n",
       "      <td>0.052664</td>\n",
       "      <td>-0.029007</td>\n",
       "      <td>0.077514</td>\n",
       "      <td>0.054724</td>\n",
       "    </tr>\n",
       "    <tr>\n",
       "      <th>dependents</th>\n",
       "      <td>0.019731</td>\n",
       "      <td>0.212146</td>\n",
       "      <td>0.317601</td>\n",
       "      <td>-0.082618</td>\n",
       "      <td>0.052664</td>\n",
       "      <td>1.000000</td>\n",
       "      <td>0.046512</td>\n",
       "      <td>0.010285</td>\n",
       "      <td>0.107133</td>\n",
       "    </tr>\n",
       "    <tr>\n",
       "      <th>months</th>\n",
       "      <td>0.048968</td>\n",
       "      <td>0.436426</td>\n",
       "      <td>0.130346</td>\n",
       "      <td>-0.055348</td>\n",
       "      <td>-0.029007</td>\n",
       "      <td>0.046512</td>\n",
       "      <td>1.000000</td>\n",
       "      <td>-0.041447</td>\n",
       "      <td>0.100028</td>\n",
       "    </tr>\n",
       "    <tr>\n",
       "      <th>majorcards</th>\n",
       "      <td>-0.007304</td>\n",
       "      <td>0.009777</td>\n",
       "      <td>0.107138</td>\n",
       "      <td>0.051470</td>\n",
       "      <td>0.077514</td>\n",
       "      <td>0.010285</td>\n",
       "      <td>-0.041447</td>\n",
       "      <td>1.000000</td>\n",
       "      <td>0.119603</td>\n",
       "    </tr>\n",
       "    <tr>\n",
       "      <th>active</th>\n",
       "      <td>0.207755</td>\n",
       "      <td>0.181070</td>\n",
       "      <td>0.180540</td>\n",
       "      <td>-0.023474</td>\n",
       "      <td>0.054724</td>\n",
       "      <td>0.107133</td>\n",
       "      <td>0.100028</td>\n",
       "      <td>0.119603</td>\n",
       "      <td>1.000000</td>\n",
       "    </tr>\n",
       "  </tbody>\n",
       "</table>\n",
       "</div>"
      ],
      "text/plain": [
       "              reports       age    income     share  expenditure  dependents  \\\n",
       "reports      1.000000  0.044089  0.011023 -0.159011    -0.136538    0.019731   \n",
       "age          0.044089  1.000000  0.324653 -0.115697     0.014948    0.212146   \n",
       "income       0.011023  0.324653  1.000000 -0.054429     0.281104    0.317601   \n",
       "share       -0.159011 -0.115697 -0.054429  1.000000     0.838779   -0.082618   \n",
       "expenditure -0.136538  0.014948  0.281104  0.838779     1.000000    0.052664   \n",
       "dependents   0.019731  0.212146  0.317601 -0.082618     0.052664    1.000000   \n",
       "months       0.048968  0.436426  0.130346 -0.055348    -0.029007    0.046512   \n",
       "majorcards  -0.007304  0.009777  0.107138  0.051470     0.077514    0.010285   \n",
       "active       0.207755  0.181070  0.180540 -0.023474     0.054724    0.107133   \n",
       "\n",
       "               months  majorcards    active  \n",
       "reports      0.048968   -0.007304  0.207755  \n",
       "age          0.436426    0.009777  0.181070  \n",
       "income       0.130346    0.107138  0.180540  \n",
       "share       -0.055348    0.051470 -0.023474  \n",
       "expenditure -0.029007    0.077514  0.054724  \n",
       "dependents   0.046512    0.010285  0.107133  \n",
       "months       1.000000   -0.041447  0.100028  \n",
       "majorcards  -0.041447    1.000000  0.119603  \n",
       "active       0.100028    0.119603  1.000000  "
      ]
     },
     "execution_count": 8,
     "metadata": {},
     "output_type": "execute_result"
    }
   ],
   "source": [
    "OurData.corr()"
   ]
  },
  {
   "cell_type": "code",
   "execution_count": 9,
   "metadata": {},
   "outputs": [
    {
     "data": {
      "text/plain": [
       "Text(0.5, 1.0, 'heatgraph of correlation')"
      ]
     },
     "execution_count": 9,
     "metadata": {},
     "output_type": "execute_result"
    },
    {
     "data": {
      "image/png": "[encoded data removed]",
      "text/plain": [
       "<Figure size 1080x720 with 2 Axes>"
      ]
     },
     "metadata": {
      "needs_background": "light"
     },
     "output_type": "display_data"
    }
   ],
   "source": [
    "corr=OurData.corr()\n",
    "plt.figure(figsize=(15,10))\n",
    "sns.heatmap(corr,annot=True,annot_kws={\"size\":15})\n",
    "plt.title('heatgraph of correlation')"
   ]
  },
  {
   "cell_type": "markdown",
   "metadata": {},
   "source": [
    "### Now we find some meanfull graph from the Dataset\n",
    "#### Countplot of Number of People Who Got The Card And Who Doesn't"
   ]
  },
  {
   "cell_type": "code",
   "execution_count": null,
   "metadata": {},
   "outputs": [],
   "source": [
    "sns.countplot(x='card',data=OurData,palette='rainbow')\n",
    "plt.xlabel(\"Card\")\n",
    "plt.ylabel(\"no. of people\")\n",
    "plt.title('Card V/s No. of people')"
   ]
  },
  {
   "cell_type": "markdown",
   "metadata": {},
   "source": [
    "#### Relation Between Card And Reports\n",
    "##### first, with the help of groupby() we find number of negetives reports respective card acceptance"
   ]
  },
  {
   "cell_type": "code",
   "execution_count": null,
   "metadata": {},
   "outputs": [],
   "source": [
    "for grp,d in OurData.groupby(\"card\"):\n",
    "    print(\"Card\",grp,\"\\nReports\",d[\"reports\"].sum())\n",
    "    print(\"---------------------------------\")"
   ]
  },
  {
   "cell_type": "code",
   "execution_count": null,
   "metadata": {},
   "outputs": [],
   "source": [
    "d2=pd.DataFrame({\"Card\":[\"yes\",\"no\"],\"Reports\":[132,470]})\n",
    "d2"
   ]
  },
  {
   "cell_type": "code",
   "execution_count": null,
   "metadata": {},
   "outputs": [],
   "source": [
    "plt.bar(d2[\"Card\"],d2[\"Reports\"])\n",
    "plt.xlabel(\"Card\")\n",
    "plt.ylabel(\"no. of reports\")\n",
    "plt.title('Card V/s No. of reports')"
   ]
  },
  {
   "cell_type": "markdown",
   "metadata": {},
   "source": [
    "#### Countplot of Number of Times of Reports V/s Number of Reports"
   ]
  },
  {
   "cell_type": "code",
   "execution_count": null,
   "metadata": {},
   "outputs": [],
   "source": [
    "plt.figure(figsize=(15,10))\n",
    "sns.countplot(x='reports',data=OurData,palette='rainbow')\n",
    "plt.xlabel(\"number of times of reports\")\n",
    "plt.ylabel(\"no. of reports\")\n",
    "plt.title('number of times of reports V/s No. of reports')"
   ]
  },
  {
   "cell_type": "markdown",
   "metadata": {},
   "source": [
    "#### Scatter Plot of Income V/s Active And Non-Active Credit Accounts"
   ]
  },
  {
   "cell_type": "code",
   "execution_count": null,
   "metadata": {},
   "outputs": [],
   "source": [
    "plt.figure(figsize=(15,10))\n",
    "color_c={\"yes\":\"green\",\"no\":\"red\"}\n",
    "plt.scatter(OurData[\"income\"],OurData[\"active\"],c=OurData[\"card\"].apply(lambda x:color_c[x]),s=10)\n",
    "plt.xlabel(\"income \")\n",
    "plt.ylabel(\"no. of active and non-active credit cards\")\n",
    "plt.title('Income V/s No. of active and non-active credit cards')\n",
    "plt.show()\n"
   ]
  },
  {
   "cell_type": "markdown",
   "metadata": {},
   "source": [
    "#### Countplot of Dependents With Respect to Number of People"
   ]
  },
  {
   "cell_type": "code",
   "execution_count": null,
   "metadata": {},
   "outputs": [],
   "source": [
    "plt.figure(figsize=(15,10))\n",
    "sns.set_style('whitegrid')\n",
    "sns.countplot(x='dependents',data=OurData,palette='husl')\n",
    "plt.xlabel(\"dependents \")\n",
    "plt.ylabel(\"no. of people\")\n",
    "plt.title('Dependants V/s no. of people')"
   ]
  },
  {
   "cell_type": "markdown",
   "metadata": {},
   "source": [
    "#### Countplot of Active V/s Number of People "
   ]
  },
  {
   "cell_type": "code",
   "execution_count": null,
   "metadata": {},
   "outputs": [],
   "source": [
    "plt.figure(figsize=(15,10))\n",
    "sns.set_style('darkgrid')\n",
    "sns.countplot(x='active',data=OurData,palette='rainbow')\n",
    "plt.xlabel(\"active \")\n",
    "plt.ylabel(\"no. of people\")\n",
    "plt.title('Active V/s No. of people')"
   ]
  },
  {
   "cell_type": "markdown",
   "metadata": {},
   "source": [
    "#### Kdeplot of Active V/s Age"
   ]
  },
  {
   "cell_type": "code",
   "execution_count": null,
   "metadata": {},
   "outputs": [],
   "source": [
    "plt.figure(figsize=(10,10))\n",
    "sns.kdeplot(OurData.active,OurData.age)\n",
    "plt.title('Active V/s Age')"
   ]
  },
  {
   "cell_type": "markdown",
   "metadata": {},
   "source": [
    "#### Jointplot of Active Accounts V/s Dependants"
   ]
  },
  {
   "cell_type": "code",
   "execution_count": null,
   "metadata": {},
   "outputs": [],
   "source": [
    "sns.jointplot(x='active',y='dependents',data=OurData)\n",
    "plt.title('active V/s Dependents')"
   ]
  },
  {
   "cell_type": "markdown",
   "metadata": {},
   "source": [
    "#### Jointplot of Active Accounts With Respects to Months "
   ]
  },
  {
   "cell_type": "code",
   "execution_count": null,
   "metadata": {},
   "outputs": [],
   "source": [
    "plt.figure(figsize=(10,10))\n",
    "sns.jointplot(x=\"months\",y=\"active\",data=OurData)\n",
    "plt.title('months V/s Active')"
   ]
  },
  {
   "cell_type": "markdown",
   "metadata": {},
   "source": [
    "#### Distplot of Share V/s Number of People"
   ]
  },
  {
   "cell_type": "code",
   "execution_count": null,
   "metadata": {},
   "outputs": [],
   "source": [
    "plt.figure(figsize=(10,10))\n",
    "sns.distplot(OurData.share)\n",
    "plt.title('Share V/s number of people')"
   ]
  },
  {
   "cell_type": "markdown",
   "metadata": {},
   "source": [
    "#### Violinplot of Self Employment V/s Report"
   ]
  },
  {
   "cell_type": "code",
   "execution_count": null,
   "metadata": {},
   "outputs": [],
   "source": [
    "plt.figure(figsize=(15,10))\n",
    "sns.set_style('whitegrid')\n",
    "sns.violinplot('selfemp','reports',data=OurData,hue='card')\n"
   ]
  },
  {
   "cell_type": "markdown",
   "metadata": {},
   "source": [
    "#### Now for boxplot"
   ]
  },
  {
   "cell_type": "code",
   "execution_count": null,
   "metadata": {},
   "outputs": [],
   "source": [
    "plt.figure(figsize=(15,10))\n",
    "sns.set_style('whitegrid')\n",
    "sns.boxplot('selfemp','reports',data=OurData,hue='card')\n"
   ]
  },
  {
   "cell_type": "markdown",
   "metadata": {},
   "source": [
    "### NOW WE DO SOME PART OF PEDICTION AND MECHINE LEARNING"
   ]
  },
  {
   "cell_type": "markdown",
   "metadata": {},
   "source": [
    "#### Naive Bayes Classifier"
   ]
  },
  {
   "cell_type": "markdown",
   "metadata": {},
   "source": [
    "##### Calculate Priors"
   ]
  },
  {
   "cell_type": "code",
   "execution_count": null,
   "metadata": {},
   "outputs": [],
   "source": [
    "# number of people whose card are accepted\n",
    "Y_card = OurData[\"card\"][OurData[\"card\"] == \"yes\"].count()\n",
    "# number of people whose card are not accepted\n",
    "N_card = OurData[\"card\"][OurData[\"card\"] == \"no\"].count()\n",
    "# total number of people\n",
    "total_card = OurData[\"card\"].count()\n",
    "\n",
    "print(\"Number of people whose card is accepted : {}   Number of people whose card is not accepted : {}   Total number of people : {}\".format(Y_card,N_card,total_card))"
   ]
  },
  {
   "cell_type": "code",
   "execution_count": null,
   "metadata": {},
   "outputs": [],
   "source": [
    "p_yes=Y_card/total_card\n",
    "p_no=N_card/total_card\n",
    "print (\"Probability of card acceptance =\",p_yes,\" and card non acceptance =\",p_no)"
   ]
  },
  {
   "cell_type": "code",
   "execution_count": null,
   "metadata": {},
   "outputs": [],
   "source": [
    "# group the data by gender and calculate the means of each feature\n",
    "data_means = OurData.groupby(\"card\").mean()\n",
    "# view the values\n",
    "data_means"
   ]
  },
  {
   "cell_type": "code",
   "execution_count": null,
   "metadata": {},
   "outputs": [],
   "source": [
    "# group the data by gender and calculate the variance of each feature\n",
    "data_variance = OurData.groupby(\"card\").var()\n",
    "# view the values\n",
    "data_variance"
   ]
  },
  {
   "cell_type": "code",
   "execution_count": null,
   "metadata": {},
   "outputs": [],
   "source": [
    "data_variance[[\"reports\",\"income\",\"share\",\"months\",\"majorcards\",\"active\"]]"
   ]
  },
  {
   "cell_type": "code",
   "execution_count": null,
   "metadata": {},
   "outputs": [],
   "source": [
    "data_variance[[\"reports\",\"income\",\"share\",\"months\",\"majorcards\",\"active\"]][data_variance.index ==\"no\"]"
   ]
  },
  {
   "cell_type": "code",
   "execution_count": null,
   "metadata": {},
   "outputs": [],
   "source": [
    "data_variance[[\"reports\",\"income\",\"share\",\"months\",\"majorcards\",\"active\"]][data_variance.index ==\"no\"].values[0]"
   ]
  },
  {
   "cell_type": "code",
   "execution_count": null,
   "metadata": {},
   "outputs": [],
   "source": [
    "credit_card_not_accepted_reports_means=data_means[\"reports\"][data_means.index==\"no\"].values[0]\n",
    "credit_card_not_accepted_income_means=data_means[\"income\"][data_means.index==\"no\"].values[0]\n",
    "credit_card_not_accepted_share_means=data_means[\"share\"][data_means.index==\"no\"].values[0]\n",
    "credit_card_not_accepted_months_means=data_means[\"months\"][data_means.index==\"no\"].values[0]\n",
    "credit_card_not_accepted_majorcards_means=data_means[\"majorcards\"][data_means.index==\"no\"].values[0]\n",
    "credit_card_not_accepted_active_means=data_means[\"active\"][data_means.index==\"no\"].values[0]\n",
    "print(credit_card_not_accepted_reports_means,credit_card_not_accepted_income_means,credit_card_not_accepted_share_means,\n",
    "      credit_card_not_accepted_months_means,credit_card_not_accepted_majorcards_means,credit_card_not_accepted_active_means)"
   ]
  },
  {
   "cell_type": "code",
   "execution_count": null,
   "metadata": {},
   "outputs": [],
   "source": [
    "credit_card_accepted_reports_means=data_means[\"reports\"][data_means.index==\"yes\"].values[0]\n",
    "credit_card_accepted_income_means=data_means[\"income\"][data_means.index==\"yes\"].values[0]\n",
    "credit_card_accepted_share_means=data_means[\"share\"][data_means.index==\"yes\"].values[0]\n",
    "credit_card_accepted_months_means=data_means[\"months\"][data_means.index==\"yes\"].values[0]\n",
    "credit_card_accepted_majorcards_means=data_means[\"majorcards\"][data_means.index==\"yes\"].values[0]\n",
    "credit_card_accepted_active_means=data_means[\"active\"][data_means.index==\"yes\"].values[0]\n",
    "\n",
    "print(credit_card_accepted_reports_means,credit_card_accepted_income_means,credit_card_accepted_share_means,\n",
    "      credit_card_accepted_months_means,credit_card_accepted_majorcards_means,credit_card_accepted_active_means)"
   ]
  },
  {
   "cell_type": "code",
   "execution_count": null,
   "metadata": {},
   "outputs": [],
   "source": [
    "credit_card_not_accepted_reports_var=data_variance[\"reports\"][data_variance.index==\"no\"].values[0]\n",
    "credit_card_not_accepted_income_var=data_variance[\"income\"][data_variance.index==\"no\"].values[0]\n",
    "credit_card_not_accepted_share_var=data_variance[\"share\"][data_variance.index==\"no\"].values[0]\n",
    "credit_card_not_accepted_months_var=data_variance[\"months\"][data_variance.index==\"no\"].values[0]\n",
    "credit_card_not_accepted_majorcards_var=data_variance[\"majorcards\"][data_variance.index==\"no\"].values[0]\n",
    "credit_card_not_accepted_active_var=data_variance[\"active\"][data_variance.index==\"no\"].values[0]\n",
    "\n",
    "print(credit_card_not_accepted_reports_var,credit_card_not_accepted_income_var,credit_card_not_accepted_share_var,\n",
    "      credit_card_not_accepted_months_var,credit_card_not_accepted_majorcards_var,credit_card_not_accepted_active_var)"
   ]
  },
  {
   "cell_type": "code",
   "execution_count": null,
   "metadata": {},
   "outputs": [],
   "source": [
    "credit_card_accepted_reports_var=data_variance[\"reports\"][data_variance.index==\"yes\"].values[0]\n",
    "credit_card_accepted_income_var=data_variance[\"income\"][data_variance.index==\"yes\"].values[0]\n",
    "credit_card_accepted_share_var=data_variance[\"share\"][data_variance.index==\"yes\"].values[0]\n",
    "credit_card_accepted_months_var=data_variance[\"months\"][data_variance.index==\"yes\"].values[0]\n",
    "credit_card_accepted_majorcards_var=data_variance[\"majorcards\"][data_variance.index==\"yes\"].values[0]\n",
    "credit_card_accepted_active_var=data_variance[\"active\"][data_variance.index==\"yes\"].values[0]\n",
    "print(credit_card_accepted_reports_var,credit_card_accepted_income_var,credit_card_accepted_share_var,\n",
    "      credit_card_accepted_months_var,credit_card_accepted_majorcards_var,credit_card_accepted_active_var)"
   ]
  },
  {
   "cell_type": "code",
   "execution_count": null,
   "metadata": {},
   "outputs": [],
   "source": [
    "# create a function that calculates p(x | y):\n",
    "def p_x_given_y(x,mean_y,variance_y):\n",
    "    # input the argiments into a probability density function\n",
    "    p = 1 / (np.sqrt(2 * np.pi * variance_y)) * \\\n",
    "                    np.exp((- (x - mean_y) ** 2) / (2 * variance_y))\n",
    "    return p"
   ]
  },
  {
   "cell_type": "code",
   "execution_count": null,
   "metadata": {},
   "outputs": [],
   "source": [
    "pr_card=pd.DataFrame()\n",
    "pr_card[\"reports\"]=[int(input('Enter the number of reports : '))]\n",
    "pr_card[\"income\"]=[float(input('Enter Yearly income (divided by 10,000) : '))]\n",
    "pr_card[\"share\"]=[float(input('Enter share (Ratio of monthly credit card expenditure to yearly income) : '))]\n",
    "pr_card[\"months\"]=[int(input('Enter Months living at current address : '))]\n",
    "pr_card[\"majorcards\"]=[int(input('Enter the number of majorcards : '))]\n",
    "pr_card[\"active\"]=[int(input('Enter the number of active card : '))]\n",
    "pr_card"
   ]
  },
  {
   "cell_type": "code",
   "execution_count": null,
   "metadata": {},
   "outputs": [],
   "source": [
    "posterior_numerator_card_not = N_card * \\\n",
    "p_x_given_y(pr_card[\"reports\"],credit_card_not_accepted_reports_means,credit_card_not_accepted_reports_var) * \\\n",
    "p_x_given_y(pr_card[\"income\"],credit_card_not_accepted_income_means,credit_card_not_accepted_income_var) * \\\n",
    "p_x_given_y(pr_card[\"share\"],credit_card_not_accepted_share_means,credit_card_not_accepted_share_var) * \\\n",
    "p_x_given_y(pr_card[\"months\"],credit_card_not_accepted_months_means,credit_card_not_accepted_months_var) * \\\n",
    "p_x_given_y(pr_card[\"majorcards\"],credit_card_not_accepted_majorcards_means,credit_card_not_accepted_majorcards_var) * \\\n",
    "p_x_given_y(pr_card[\"active\"],credit_card_not_accepted_active_means,credit_card_not_accepted_active_var)\n",
    "posterior_numerator_card = Y_card * \\\n",
    "p_x_given_y(pr_card[\"reports\"],credit_card_accepted_reports_means,credit_card_accepted_reports_var) * \\\n",
    "p_x_given_y(pr_card[\"income\"],credit_card_accepted_income_means,credit_card_accepted_income_var) * \\\n",
    "p_x_given_y(pr_card[\"share\"],credit_card_accepted_share_means,credit_card_accepted_share_var) * \\\n",
    "p_x_given_y(pr_card[\"months\"],credit_card_accepted_months_means,credit_card_accepted_months_var) * \\\n",
    "p_x_given_y(pr_card[\"majorcards\"],credit_card_accepted_majorcards_means,credit_card_accepted_majorcards_var) * \\\n",
    "p_x_given_y(pr_card[\"active\"],credit_card_accepted_active_means,credit_card_accepted_active_var)\n"
   ]
  },
  {
   "cell_type": "code",
   "execution_count": null,
   "metadata": {},
   "outputs": [],
   "source": [
    "print (\"Numerator of Posterior for accept of credit card is\\n\",posterior_numerator_card.values[0])\n",
    "print (\"Numerator of Posterior for non-accept of credit card is\\n\",posterior_numerator_card_not.values[0])\n",
    "if (posterior_numerator_card.values[0] >= posterior_numerator_card_not.values[0]):\n",
    "    print (\"Prediction is credit card is accept...\")\n",
    "else:\n",
    "    print (\"Prediction is credit card is not accept...\")"
   ]
  },
  {
   "cell_type": "markdown",
   "metadata": {},
   "source": [
    "#### K-NN or K-Nearest Neighbor"
   ]
  },
  {
   "cell_type": "code",
   "execution_count": null,
   "metadata": {},
   "outputs": [],
   "source": [
    "from sklearn.neighbors import KNeighborsClassifier\n",
    "from sklearn.preprocessing import StandardScaler\n",
    "from sklearn.pipeline import Pipeline\n",
    "from sklearn.model_selection import GridSearchCV"
   ]
  },
  {
   "cell_type": "code",
   "execution_count": null,
   "metadata": {},
   "outputs": [],
   "source": [
    "OurData.head(10)"
   ]
  },
  {
   "cell_type": "code",
   "execution_count": null,
   "metadata": {},
   "outputs": [],
   "source": [
    "imp_col=OurData.columns[1:]\n",
    "imp_col"
   ]
  },
  {
   "cell_type": "code",
   "execution_count": null,
   "metadata": {},
   "outputs": [],
   "source": [
    "OurData[\"card\"].replace([\"no\",\"yes\"],[0,1],inplace=True)\n",
    "OurData[\"owner\"].replace([\"no\",\"yes\"],[0,1],inplace=True)\n",
    "OurData[\"selfemp\"].replace([\"no\",\"yes\"],[0,1],inplace=True)\n",
    "print(OurData)\n",
    "data=OurData\n",
    "data"
   ]
  },
  {
   "cell_type": "code",
   "execution_count": null,
   "metadata": {},
   "outputs": [],
   "source": [
    "data=OurData[[\"reports\",\"income\",\"share\",\"months\",\"majorcards\",\"active\"]]\n",
    "data=np.array(data)\n",
    "data"
   ]
  },
  {
   "cell_type": "code",
   "execution_count": null,
   "metadata": {},
   "outputs": [],
   "source": [
    "target=OurData[[\"card\"]]\n",
    "target=np.array(target)\n",
    "target=target.flatten()\n",
    "print(target)"
   ]
  },
  {
   "cell_type": "code",
   "execution_count": null,
   "metadata": {},
   "outputs": [],
   "source": [
    "X=data\n",
    "print(\"X :-\",X)\n",
    "y=target\n",
    "print(\"y :-\",y)"
   ]
  },
  {
   "cell_type": "code",
   "execution_count": null,
   "metadata": {},
   "outputs": [],
   "source": [
    "# Standardise Data\n",
    "# Create standardizer\n",
    "standardizer = StandardScaler()\n",
    "# standardize features\n",
    "X_std = standardizer.fit_transform(X)\n",
    "print (\"X_std:\\n\",X_std)"
   ]
  },
  {
   "cell_type": "code",
   "execution_count": null,
   "metadata": {},
   "outputs": [],
   "source": [
    "# fit a k-nearest neighbor classifier\n",
    "# fit a KNN classifier with 5 neighbors\n",
    "knn=KNeighborsClassifier(n_neighbors=5,metric=\"euclidean\",\n",
    "                         n_jobs=-1).fit(X_std,y)"
   ]
  },
  {
   "cell_type": "code",
   "execution_count": null,
   "metadata": {},
   "outputs": [],
   "source": [
    "# create search space of possible values ok k\n",
    "# create a pipeline\n",
    "pipe = Pipeline([(\"standardizer\",standardizer),(\"knn\",knn)])\n",
    "# create space of candidate values\n",
    "search_space=[{\"knn__n_neighbors\":[1,2,3,4,5,6,7,8,9,10]}]"
   ]
  },
  {
   "cell_type": "code",
   "execution_count": null,
   "metadata": {},
   "outputs": [],
   "source": [
    "# search over possible values of k\n",
    "# create grid search GridSearchCV implements \"fit\" and \"score\" method.\n",
    "# the parameters of the estimator used to apply these methods are\n",
    "# optimized by cross-validated grid-search over a parameter grid.\n",
    "clf = GridSearchCV(pipe,search_space,cv=5,verbose=1).fit(X_std,y)"
   ]
  },
  {
   "cell_type": "code",
   "execution_count": null,
   "metadata": {},
   "outputs": [],
   "source": [
    "# view k for best performing model\n",
    "# best neighborhood size (k)\n",
    "clf.best_estimator_.get_params()[\"knn__n_neighbors\"]"
   ]
  },
  {
   "cell_type": "code",
   "execution_count": null,
   "metadata": {},
   "outputs": [],
   "source": [
    "from sklearn import neighbors"
   ]
  },
  {
   "cell_type": "code",
   "execution_count": null,
   "metadata": {},
   "outputs": [],
   "source": [
    "# train the learner\n",
    "clf = neighbors.KNeighborsClassifier(8,weights=\"uniform\")\n",
    "trained_model = clf.fit(X,y)\n",
    "# our model has been trained"
   ]
  },
  {
   "cell_type": "code",
   "execution_count": null,
   "metadata": {},
   "outputs": [],
   "source": [
    "# view the models score to check how good is our model\n",
    "trained_model.score(X,y)"
   ]
  },
  {
   "cell_type": "code",
   "execution_count": null,
   "metadata": {},
   "outputs": [],
   "source": [
    "# preparing the test data\n",
    "x_test = np.array([[0,1.5,0.058608,64,1,6]])\n",
    "print (x_test)\n",
    "trained_model.predict(x_test)"
   ]
  },
  {
   "cell_type": "code",
   "execution_count": null,
   "metadata": {},
   "outputs": [],
   "source": [
    "# now printing the probability\n",
    "trained_model.predict_proba(x_test)"
   ]
  },
  {
   "cell_type": "code",
   "execution_count": null,
   "metadata": {},
   "outputs": [],
   "source": [
    "a=knn.score(X,y)\n",
    "a"
   ]
  },
  {
   "cell_type": "markdown",
   "metadata": {},
   "source": [
    "#### Decision Tree"
   ]
  },
  {
   "cell_type": "code",
   "execution_count": null,
   "metadata": {},
   "outputs": [],
   "source": [
    "OurData.head()"
   ]
  },
  {
   "cell_type": "code",
   "execution_count": null,
   "metadata": {},
   "outputs": [],
   "source": [
    "OurData.card.replace([1, 0], ['A', 'B'], inplace=True)\n",
    "OurData.head()"
   ]
  },
  {
   "cell_type": "code",
   "execution_count": null,
   "metadata": {},
   "outputs": [],
   "source": [
    "OurData.card.value_counts()"
   ]
  },
  {
   "cell_type": "code",
   "execution_count": null,
   "metadata": {},
   "outputs": [],
   "source": [
    "round(OurData.card.value_counts()*100/len(OurData.axes[0]),2)"
   ]
  },
  {
   "cell_type": "markdown",
   "metadata": {},
   "source": [
    "##### Test and Train Sample\n",
    "##### Now, we have a data sample, which can be considered for the modeling. We are splitting the data into Test Sample (which will be used for validating the model developed) and Train Sample (which will be used for Model development)."
   ]
  },
  {
   "cell_type": "code",
   "execution_count": null,
   "metadata": {},
   "outputs": [],
   "source": [
    "# Split sample into Train and Test\n",
    "from sklearn.model_selection import train_test_split\n",
    "Train,Test = train_test_split(OurData, test_size = 0.3, \n",
    "                              random_state = 176)\n",
    "\n",
    "# Print a few rows\n",
    "Train.head()"
   ]
  },
  {
   "cell_type": "code",
   "execution_count": null,
   "metadata": {},
   "outputs": [],
   "source": [
    "# Keep Target and Independent Variable into different array\n",
    "Train_IndepentVars = Train.values[:, 1:12]\n",
    "Train_TargetVar = Train.values[:,0]"
   ]
  },
  {
   "cell_type": "code",
   "execution_count": null,
   "metadata": {},
   "outputs": [],
   "source": [
    "Train_IndepentVars"
   ]
  },
  {
   "cell_type": "code",
   "execution_count": null,
   "metadata": {},
   "outputs": [],
   "source": [
    "Train_TargetVar,len(Train_TargetVar)"
   ]
  },
  {
   "cell_type": "code",
   "execution_count": null,
   "metadata": {},
   "outputs": [],
   "source": [
    "print (\"Total rows = \", len(Train_TargetVar))\n",
    "print (\"Total A-rows = \", (Train_TargetVar == 'A').sum())\n",
    "print (\"Total B-rows = \",(Train_TargetVar == 'B').sum())"
   ]
  },
  {
   "cell_type": "markdown",
   "metadata": {},
   "source": [
    "We have arrays for independent variables and the target variable.\n",
    "We can now build decision tree classifier. \n",
    "We are using DecisionTreeClassifier from sklearn library.  \n",
    "\"gini\" option helps in leveraging CART - \n",
    "Classification and Regression Tree - algorithm for fitting the decision tree."
   ]
  },
  {
   "cell_type": "code",
   "execution_count": null,
   "metadata": {},
   "outputs": [],
   "source": [
    "# Load library\n",
    "#from sklearn import tree\n",
    "from sklearn.tree import DecisionTreeClassifier\n",
    "# Building Decision Tree - CART Algorithm (gini criteria)\n",
    "dt_train_gini = DecisionTreeClassifier(criterion = \"gini\", \n",
    "                                       random_state = 100,\n",
    "                               max_depth=5, min_samples_leaf=5)\n",
    "# Train\n",
    "dt_train_gini.fit(Train_IndepentVars, Train_TargetVar)"
   ]
  },
  {
   "cell_type": "code",
   "execution_count": null,
   "metadata": {},
   "outputs": [],
   "source": [
    "b=dt_train_gini.score(Train_IndepentVars,Train_TargetVar)\n",
    "b"
   ]
  },
  {
   "cell_type": "markdown",
   "metadata": {},
   "source": [
    "#### Decision Tree Visualization\n",
    "To see the decision tree plot we'll use graphviz."
   ]
  },
  {
   "cell_type": "code",
   "execution_count": null,
   "metadata": {},
   "outputs": [],
   "source": [
    "from sklearn import tree\n",
    "with open(\"dt_train_gini.txt\", \"w\") as f:\n",
    "    f = tree.export_graphviz(dt_train_gini, out_file=f)"
   ]
  },
  {
   "cell_type": "markdown",
   "metadata": {},
   "source": [
    "This step create a text file dt_train_gini.txt in the default folder. We can give full path as well. We can copy the context of this text file and put into the box on http://www.webgraphviz.com/"
   ]
  },
  {
   "cell_type": "markdown",
   "metadata": {},
   "source": [
    "#### Logistic Regression"
   ]
  },
  {
   "cell_type": "code",
   "execution_count": null,
   "metadata": {},
   "outputs": [],
   "source": [
    "from sklearn.linear_model import LogisticRegression"
   ]
  },
  {
   "cell_type": "code",
   "execution_count": null,
   "metadata": {},
   "outputs": [],
   "source": [
    "OurData.head(5)"
   ]
  },
  {
   "cell_type": "code",
   "execution_count": null,
   "metadata": {},
   "outputs": [],
   "source": [
    "OurData.card.replace([\"A\", \"B\"], [1, 0], inplace=True)"
   ]
  },
  {
   "cell_type": "code",
   "execution_count": null,
   "metadata": {},
   "outputs": [],
   "source": [
    "OurData.head(5)"
   ]
  },
  {
   "cell_type": "code",
   "execution_count": null,
   "metadata": {},
   "outputs": [],
   "source": [
    "Train,Test = train_test_split(OurData, test_size = 0.3, \n",
    "                              random_state = 176)\n",
    "print(\"No. of Train rows -> \",len(Train))\n",
    "print(\"No. of Test rows -> \",len(Test))"
   ]
  },
  {
   "cell_type": "code",
   "execution_count": null,
   "metadata": {},
   "outputs": [],
   "source": [
    "Train_IndepentVars = Train.values[:, 1:12]\n",
    "Train_TargetVar = Train.values[:,0]\n",
    "print(Train_IndepentVars)\n",
    "print(Train_TargetVar)"
   ]
  },
  {
   "cell_type": "code",
   "execution_count": null,
   "metadata": {},
   "outputs": [],
   "source": [
    "logmodel=LogisticRegression()\n",
    "logmodel.fit(Train_IndepentVars,Train_TargetVar)"
   ]
  },
  {
   "cell_type": "code",
   "execution_count": null,
   "metadata": {},
   "outputs": [],
   "source": [
    "predictions=logmodel.predict(Train_IndepentVars)\n",
    "predictions,len(predictions)"
   ]
  },
  {
   "cell_type": "code",
   "execution_count": null,
   "metadata": {},
   "outputs": [],
   "source": [
    "from sklearn.metrics import classification_report"
   ]
  },
  {
   "cell_type": "code",
   "execution_count": null,
   "metadata": {},
   "outputs": [],
   "source": [
    "print(classification_report(Train_TargetVar,predictions))"
   ]
  },
  {
   "cell_type": "code",
   "execution_count": null,
   "metadata": {},
   "outputs": [],
   "source": [
    "from sklearn.metrics import confusion_matrix"
   ]
  },
  {
   "cell_type": "code",
   "execution_count": null,
   "metadata": {},
   "outputs": [],
   "source": [
    "print (pd.Series(Train_TargetVar).value_counts())\n",
    "print(confusion_matrix(Train_TargetVar,predictions))\n",
    "# confusion_matrix(Train_TargetVar,predictions)\n",
    "confusion_df = pd.DataFrame(confusion_matrix(Train_TargetVar,predictions),\n",
    "             columns=[\"Predicted Class \" + str(class_name) for class_name in [0,1]],\n",
    "             index = [\"Class \" + str(class_name) for class_name in [0,1]])\n",
    "\n",
    "print(confusion_df)\n",
    "\n",
    "#                 predicted     \n",
    "# actual     No           YES\n",
    "# NO         TN           FP   \n",
    "# YES        FN           TP"
   ]
  },
  {
   "cell_type": "code",
   "execution_count": null,
   "metadata": {},
   "outputs": [],
   "source": [
    "print(logmodel.coef_)"
   ]
  },
  {
   "cell_type": "code",
   "execution_count": null,
   "metadata": {},
   "outputs": [],
   "source": [
    "print(logmodel.intercept_)"
   ]
  },
  {
   "cell_type": "code",
   "execution_count": null,
   "metadata": {},
   "outputs": [],
   "source": [
    "c=logmodel.score(Train_IndepentVars,Train_TargetVar)\n",
    "c"
   ]
  },
  {
   "cell_type": "markdown",
   "metadata": {},
   "source": [
    "#### MODEL BUILDING"
   ]
  },
  {
   "cell_type": "code",
   "execution_count": null,
   "metadata": {},
   "outputs": [],
   "source": [
    "OurData.head()"
   ]
  },
  {
   "cell_type": "code",
   "execution_count": null,
   "metadata": {},
   "outputs": [],
   "source": [
    "X=OurData.drop(\"card\",axis=1)\n",
    "X.head()"
   ]
  },
  {
   "cell_type": "code",
   "execution_count": null,
   "metadata": {},
   "outputs": [],
   "source": [
    "y=OurData.card\n",
    "y.head()"
   ]
  },
  {
   "cell_type": "code",
   "execution_count": null,
   "metadata": {},
   "outputs": [],
   "source": [
    "# Split sample into Train and Test\n",
    "from sklearn.linear_model import LinearRegression\n",
    "from sklearn.model_selection import train_test_split\n",
    "Train,Test = train_test_split(OurData, test_size = 0.3, \n",
    "                              random_state = 176)\n",
    "\n",
    "Train_IndepentVars = Train.values[:, 1:12]\n",
    "Train_TargetVar = Train.values[:,0]\n",
    "Test_IndepentVars=Test.values[:,1:12]\n",
    "Test_TargetVar=Test.values[:,0]\n",
    "regressor = LinearRegression()\n",
    "regressor.fit(Train_IndepentVars, Train_TargetVar)\n",
    "\n",
    "print (len(Train_IndepentVars), len(Train_TargetVar))"
   ]
  },
  {
   "cell_type": "code",
   "execution_count": null,
   "metadata": {},
   "outputs": [],
   "source": [
    "# result = regressor.fit(X, y)\n",
    "# print(result)"
   ]
  },
  {
   "cell_type": "code",
   "execution_count": null,
   "metadata": {},
   "outputs": [],
   "source": [
    "print ('Estimated intercept:', regressor.intercept_)"
   ]
  },
  {
   "cell_type": "code",
   "execution_count": null,
   "metadata": {},
   "outputs": [],
   "source": [
    "print ('Number of coefficients:', len(regressor.coef_))\n",
    "print ('Coefficients:', regressor.coef_)"
   ]
  },
  {
   "cell_type": "code",
   "execution_count": null,
   "metadata": {},
   "outputs": [],
   "source": [
    "Test=Test.drop(\"card\",axis=1)\n",
    "Test.head()"
   ]
  },
  {
   "cell_type": "code",
   "execution_count": null,
   "metadata": {},
   "outputs": [],
   "source": [
    "# Calculate R-squared:\n",
    "# R-squared is a statistical measure of how close the\n",
    "# data are to the fitted regression line. It is also\n",
    "# known as the coefficient of determination\n",
    "\n",
    "y_pred = regressor.predict(Test)\n",
    "print (\"y_pred : \",y_pred)\n",
    "print('Linear Regression R squared: %.4f' \\\n",
    "      % regressor.score(Test_IndepentVars,Test_TargetVar))"
   ]
  },
  {
   "cell_type": "code",
   "execution_count": null,
   "metadata": {},
   "outputs": [],
   "source": [
    "import numpy as np\n",
    "from sklearn.metrics import mean_squared_error\n",
    "lin_mse = mean_squared_error(y_pred, Test_TargetVar)\n",
    "lin_rmse = np.sqrt(lin_mse)\n",
    "print('Linear Regression RMSE: %.4f' % lin_rmse)"
   ]
  },
  {
   "cell_type": "code",
   "execution_count": null,
   "metadata": {},
   "outputs": [],
   "source": [
    "# Calculate mean absolute error (MAE):\n",
    "# In statistics, mean absolute error (MAE) is a \n",
    "# measure of difference between two continuous \n",
    "# variables\n",
    "\n",
    "from sklearn.metrics import mean_absolute_error\n",
    "\n",
    "lin_mae = mean_absolute_error(y_pred, Test_TargetVar)\n",
    "print('Linear Regression MAE: %.4f' % lin_mae)"
   ]
  },
  {
   "cell_type": "code",
   "execution_count": null,
   "metadata": {},
   "outputs": [],
   "source": [
    " # Preliminaries\n",
    "# Load libraries\n",
    "from sklearn.datasets import make_classification\n",
    "from sklearn.linear_model import LogisticRegression\n",
    "from sklearn.metrics import roc_curve, roc_auc_score,auc\n",
    "from sklearn.model_selection import train_test_split\n",
    "from sklearn.model_selection import cross_val_score\n",
    "import matplotlib.pyplot as plt"
   ]
  },
  {
   "cell_type": "code",
   "execution_count": null,
   "metadata": {},
   "outputs": [],
   "source": [
    "OurData.head()"
   ]
  },
  {
   "cell_type": "markdown",
   "metadata": {},
   "source": [
    "# Training Binary Classifier\n",
    "# Create classifier\n",
    "clf = LogisticRegression()\n",
    "\n",
    "# Train model\n",
    "clf.fit(Train_IndepentVars, Train_TargetVar)"
   ]
  },
  {
   "cell_type": "code",
   "execution_count": null,
   "metadata": {},
   "outputs": [],
   "source": [
    "# Create Predicted Probabilities\n",
    "# Get predicted probabilities\n",
    "y_score = clf.predict_proba(Test_IndepentVars)[:,1]\n",
    "y_score"
   ]
  },
  {
   "cell_type": "code",
   "execution_count": null,
   "metadata": {},
   "outputs": [],
   "source": [
    "# Plot Receiving Operating Characteristic Curve\n",
    "# Create true and false positive rates\n",
    "\n",
    "false_positive_rate, true_positive_rate, threshold = roc_curve(Test_TargetVar, y_score)\n",
    "\n",
    "# Plot ROC curve\n",
    "plt.title('Receiver Operating Characteristic (ROC)')\n",
    "roc_auc=auc(false_positive_rate,true_positive_rate)\n",
    "plt.plot(false_positive_rate, true_positive_rate,'b',label=\"AUC=%f\"%roc_auc)\n",
    "plt.legend(loc='lower right')\n",
    "plt.plot([0, 1], ls=\"--\")\n",
    "plt.plot([0, 0], [1, 0] , c=\".7\")\n",
    "plt.plot([1, 1] , c=\".7\")\n",
    "plt.ylabel('True Positive Rate (TPR=TP/P=TP/(TP+FN))')\n",
    "plt.xlabel('False Positive Rate (FPR=FP/N=FP/(FP+TN))')\n",
    "plt.show()"
   ]
  },
  {
   "cell_type": "code",
   "execution_count": null,
   "metadata": {},
   "outputs": [],
   "source": [
    "## Precision = TP/(TP + FP)\n",
    "# Recall = TP/(TP + FN)\n",
    "# F1-score = 2 x (precision x recall)/(precision + recall)\n",
    "\n",
    "# Cross-Validate Model Using Recall\n",
    "cross_val_score(clf, X, y, scoring=\"recall\")"
   ]
  },
  {
   "cell_type": "code",
   "execution_count": null,
   "metadata": {},
   "outputs": [],
   "source": [
    "# Precision = TP/(TP + FP)\n",
    "# Recall = TP/(TP + FN)\n",
    "# F1-score = 2 x (precision x recall)/(precision + recall)\n",
    "\n",
    "# Cross-validate model using precision\n",
    "cross_val_score(clf, X, y, scoring=\"precision\")"
   ]
  },
  {
   "cell_type": "code",
   "execution_count": null,
   "metadata": {},
   "outputs": [],
   "source": [
    "my_col=[\"Model\",\"Score\"]\n",
    "Aco=pd.DataFrame([[\"Knn\",a],\n",
    "                [\"decision Tree\",b],\n",
    "                [\"Logistic Regression\",c]],columns = my_col)\n",
    "Aco"
   ]
  },
  {
   "cell_type": "code",
   "execution_count": null,
   "metadata": {},
   "outputs": [],
   "source": [
    "plt.bar(Aco.Model,Aco.Score)"
   ]
  },
  {
   "cell_type": "code",
   "execution_count": null,
   "metadata": {},
   "outputs": [],
   "source": []
  },
  {
   "cell_type": "code",
   "execution_count": null,
   "metadata": {},
   "outputs": [],
   "source": []
  },
  {
   "cell_type": "code",
   "execution_count": null,
   "metadata": {},
   "outputs": [],
   "source": []
  },
  {
   "cell_type": "code",
   "execution_count": null,
   "metadata": {},
   "outputs": [],
   "source": []
  },
  {
   "cell_type": "code",
   "execution_count": null,
   "metadata": {},
   "outputs": [],
   "source": []
  }
 ],
 "metadata": {
  "kernelspec": {
   "display_name": "Python 3",
   "language": "python",
   "name": "python3"
  },
  "language_info": {
   "codemirror_mode": {
    "name": "ipython",
    "version": 3
   },
   "file_extension": ".py",
   "mimetype": "text/x-python",
   "name": "python",
   "nbconvert_exporter": "python",
   "pygments_lexer": "ipython3",
   "version": "3.7.3"
  }
 },
 "nbformat": 4,
 "nbformat_minor": 2
}
